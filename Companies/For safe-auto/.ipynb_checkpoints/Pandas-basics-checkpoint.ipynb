{
 "cells": [
  {
   "cell_type": "code",
   "execution_count": 6,
   "metadata": {},
   "outputs": [],
   "source": [
    "import pandas as pd\n",
    "import datetime\n",
    "import numpy as np\n",
    "import pandas_datareader.data as web\n",
    "import matplotlib.pyplot as plt\n",
    "from matplotlib import style\n",
    "style.use('fivethirtyeight')"
   ]
  },
  {
   "cell_type": "code",
   "execution_count": 62,
   "metadata": {},
   "outputs": [],
   "source": [
    "# Define df\n",
    "web_stats = {'Day':[1,2,3,4,5,6],\n",
    "             'Visitors':[43,34,65,56,29,76],\n",
    "             'Bounce_Rate':[65,67,78,65,45,52]}\n",
    "df = pd.DataFrame(web_stats)"
   ]
  },
  {
   "cell_type": "code",
   "execution_count": 24,
   "metadata": {},
   "outputs": [
    {
     "name": "stdout",
     "output_type": "stream",
     "text": [
      "   Unnamed: 0  Bounce_Rate  Day  Visitors\n",
      "0           0           65    1        43\n",
      "1           1           67    2        34\n",
      "2           2           78    3        65\n",
      "3           3           65    4        56\n",
      "4           4           45    5        29\n",
      "5           5           52    6        76\n"
     ]
    }
   ],
   "source": [
    "# IO\n",
    "df.to_csv('ds.csv')\n",
    "df1 = pd.read_csv('ds.csv')\n",
    "print df1\n",
    "df.to_excel('ds.xlsx',sheet_name = 's1')"
   ]
  },
  {
   "cell_type": "code",
   "execution_count": 69,
   "metadata": {},
   "outputs": [
    {
     "name": "stdout",
     "output_type": "stream",
     "text": [
      "DataFrame Shape:(6, 3)\n",
      "Index([u'Bounce_Rate', u'Day', u'Visitors'], dtype='object')\n",
      "Int64Index([0, 1, 2, 3, 4, 5], dtype='int64')\n",
      "   Bounce_Rate  Day  Visitors\n",
      "0           65    1        43\n",
      "1           67    2        34\n",
      "2           78    3        65\n",
      "3           65    4        56\n",
      "4           45    5        29\n",
      "5           52    6        76\n",
      "       Bounce_Rate       Day   Visitors\n",
      "count     6.000000  6.000000   6.000000\n",
      "mean     62.000000  3.500000  50.500000\n",
      "std      11.730303  1.870829  18.338484\n",
      "min      45.000000  1.000000  29.000000\n",
      "25%      55.250000  2.250000  36.250000\n",
      "50%      65.000000  3.500000  49.500000\n",
      "75%      66.500000  4.750000  62.750000\n",
      "max      78.000000  6.000000  76.000000\n",
      "   Day  Visitors\n",
      "1    2        34\n",
      "2    3        65\n",
      "3    4        56\n",
      "4    5        29\n",
      "   Day  Visitors\n",
      "1    2        34\n",
      "2    3        65\n",
      "3    4        56\n",
      "4    5        29\n",
      "   Bounce_Rate  Day  Visitors\n",
      "3           65    4        56\n",
      "4           45    5        29\n",
      "5           52    6        76\n"
     ]
    }
   ],
   "source": [
    "# info & Slection\n",
    "print 'DataFrame Shape:'+ str(df.shape)\n",
    "print df.columns\n",
    "print df.index\n",
    "print(df)\n",
    "print df.describe()\n",
    "print df.loc[1:4,['Day','Visitors']]\n",
    "print df.iloc[1:5,1:3]\n",
    "print df[df['Day']>3]"
   ]
  },
  {
   "cell_type": "code",
   "execution_count": 48,
   "metadata": {},
   "outputs": [
    {
     "name": "stdout",
     "output_type": "stream",
     "text": [
      "   Bounce_Rate  Visitors\n",
      "1          134        68\n",
      "2          156       130\n",
      "3          130       112\n"
     ]
    }
   ],
   "source": [
    "# data maniupulation\n",
    "f = lambda x : x*2\n",
    "df1 = df.loc[1:3,['Bounce_Rate','Visitors']].apply(f)\n",
    "print df1"
   ]
  },
  {
   "cell_type": "code",
   "execution_count": 67,
   "metadata": {},
   "outputs": [
    {
     "name": "stdout",
     "output_type": "stream",
     "text": [
      "          Bounce_Rate  Day\n",
      "Visitors                  \n",
      "43                 65    1\n",
      "34                 67    2\n",
      "65                 78    3\n",
      "56                 65    4\n",
      "29                 45    5\n",
      "76                 52    6\n",
      "          Bounce_Rate  Day\n",
      "Visitors                  \n",
      "29                 45    5\n",
      "34                 67    2\n",
      "43                 65    1\n",
      "56                 65    4\n",
      "65                 78    3\n",
      "76                 52    6\n",
      "          Bounce_Rate  Day\n",
      "Visitors                  \n",
      "29                 45    5\n",
      "76                 52    6\n",
      "43                 65    1\n",
      "56                 65    4\n",
      "34                 67    2\n",
      "65                 78    3\n"
     ]
    }
   ],
   "source": [
    "# sort_index\n",
    "df2 = df.set_index('Visitors')\n",
    "print df2\n",
    "print(df2.sort_index())\n",
    "print(df2.sort_values(by='Bounce_Rate'))"
   ]
  }
 ],
 "metadata": {
  "kernelspec": {
   "display_name": "Python 2",
   "language": "python",
   "name": "python2"
  },
  "language_info": {
   "codemirror_mode": {
    "name": "ipython",
    "version": 2
   },
   "file_extension": ".py",
   "mimetype": "text/x-python",
   "name": "python",
   "nbconvert_exporter": "python",
   "pygments_lexer": "ipython2",
   "version": "2.7.12"
  }
 },
 "nbformat": 4,
 "nbformat_minor": 2
}
