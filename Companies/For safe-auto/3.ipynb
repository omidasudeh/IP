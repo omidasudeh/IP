{
 "cells": [
  {
   "cell_type": "code",
   "execution_count": 3,
   "metadata": {},
   "outputs": [],
   "source": [
    "import pandas as pd\n",
    "import datetime\n",
    "import numpy as np\n",
    "import pandas_datareader.data as web\n",
    "import matplotlib.pyplot as plt\n",
    "from matplotlib import style\n",
    "style.use('fivethirtyeight')"
   ]
  },
  {
   "cell_type": "code",
   "execution_count": 12,
   "metadata": {},
   "outputs": [
    {
     "name": "stdout",
     "output_type": "stream",
     "text": [
      "         Date  Value\n",
      "0  2018-06-30   1538\n",
      "1  2018-05-31   1540\n",
      "2  2018-04-30   1537\n",
      "3  2018-03-31   1524\n",
      "4  2018-02-28   1508\n"
     ]
    }
   ],
   "source": [
    "df = pd.read_csv('ZILLOW-Z43202_ZRISFRR.csv')\n",
    "print (df.head())"
   ]
  },
  {
   "cell_type": "code",
   "execution_count": 15,
   "metadata": {},
   "outputs": [
    {
     "name": "stdout",
     "output_type": "stream",
     "text": [
      "            Value\n",
      "Date             \n",
      "2018-06-30   1538\n",
      "2018-05-31   1540\n",
      "2018-04-30   1537\n",
      "2018-03-31   1524\n",
      "2018-02-28   1508\n"
     ]
    }
   ],
   "source": [
    "df = pd.read_csv('ZILLOW-Z43202_ZRISFRR.csv',index_col = 0) # read and index on column 0\n",
    "print (df.head())"
   ]
  },
  {
   "cell_type": "code",
   "execution_count": 21,
   "metadata": {},
   "outputs": [
    {
     "name": "stdout",
     "output_type": "stream",
     "text": [
      "            Columbus_HPI\n",
      "Date                    \n",
      "2018-06-30          1538\n",
      "2018-05-31          1540\n",
      "2018-04-30          1537\n",
      "2018-03-31          1524\n",
      "2018-02-28          1508\n"
     ]
    }
   ],
   "source": [
    "df.columns = ['Columbus_HPI'] # Date is not a column anymore as we indexed on that\n",
    "print(df.head())\n",
    "df.to_csv('columbus_HPI.csv')\n",
    "df.to_csv('columbus_HPI_noheader.csv',header = False)# save with on header"
   ]
  },
  {
   "cell_type": "code",
   "execution_count": 34,
   "metadata": {},
   "outputs": [
    {
     "name": "stdout",
     "output_type": "stream",
     "text": [
      "            Columbus_HPI\n",
      "Date                    \n",
      "2018-06-30          1538\n",
      "2018-05-31          1540\n",
      "2018-04-30          1537\n",
      "2018-03-31          1524\n",
      "2018-02-28          1508\n"
     ]
    }
   ],
   "source": [
    "df1 = pd.read_csv('columbus_HPI_noheader.csv',names = [\"Date\", \"Columbus_HPI\"], index_col = 0)\n",
    "print(df1.head())"
   ]
  },
  {
   "cell_type": "code",
   "execution_count": 29,
   "metadata": {},
   "outputs": [],
   "source": [
    "# convert df to html!\n",
    "df.to_html(\"columbus_HPI.html\") "
   ]
  },
  {
   "cell_type": "code",
   "execution_count": 38,
   "metadata": {},
   "outputs": [
    {
     "name": "stdout",
     "output_type": "stream",
     "text": [
      "            43202_HPI\n",
      "Date                 \n",
      "2018-06-30       1538\n",
      "2018-05-31       1540\n",
      "2018-04-30       1537\n",
      "2018-03-31       1524\n",
      "2018-02-28       1508\n"
     ]
    }
   ],
   "source": [
    "# rename column name\n",
    "df1.rename(columns = {'Columbus_HPI':'43202_HPI'}, inplace = True) \n",
    "print(df1.head())"
   ]
  }
 ],
 "metadata": {
  "kernelspec": {
   "display_name": "Python 2",
   "language": "python",
   "name": "python2"
  },
  "language_info": {
   "codemirror_mode": {
    "name": "ipython",
    "version": 2
   },
   "file_extension": ".py",
   "mimetype": "text/x-python",
   "name": "python",
   "nbconvert_exporter": "python",
   "pygments_lexer": "ipython2",
   "version": "2.7.12"
  }
 },
 "nbformat": 4,
 "nbformat_minor": 2
}
